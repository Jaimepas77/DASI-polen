{
 "cells": [
  {
   "cell_type": "markdown",
   "metadata": {},
   "source": [
    "# Visualización de los datos de polen\n",
    "En este cuaderno se visualizan y analizan los datos preprocesados. Sirve para ver las características de los mismos y posiblemente mejorar el preprocesado."
   ]
  },
  {
   "cell_type": "code",
   "execution_count": null,
   "metadata": {},
   "outputs": [],
   "source": [
    "import pandas as pd"
   ]
  },
  {
   "cell_type": "code",
   "execution_count": null,
   "metadata": {},
   "outputs": [],
   "source": [
    "input_file = '../1 Preprocesado/polen/gramineas.csv'"
   ]
  },
  {
   "cell_type": "code",
   "execution_count": null,
   "metadata": {},
   "outputs": [],
   "source": [
    "# Cargamos el dataset\n",
    "df = pd.read_csv(input_file)\n",
    "df[\"fecha\"] = pd.to_datetime(df[\"fecha\"], format='%Y-%m-%d')"
   ]
  },
  {
   "cell_type": "code",
   "execution_count": null,
   "metadata": {},
   "outputs": [],
   "source": [
    "# Número de filas\n",
    "print(\"Número de filas:\", len(df))"
   ]
  },
  {
   "cell_type": "markdown",
   "metadata": {},
   "source": [
    "Mínimo y máximo histórico"
   ]
  },
  {
   "cell_type": "code",
   "execution_count": null,
   "metadata": {},
   "outputs": [],
   "source": [
    "# Máximo y mínimo de granos_de_polen con fecha\n",
    "max_granos_de_polen = df[\"granos_de_polen\"].max()\n",
    "min_granos_de_polen = df[\"granos_de_polen\"].min()\n",
    "\n",
    "\n",
    "print(f\"Máximo de granos_de_polen: {max_granos_de_polen}\")\n",
    "print(f\"Fechas con el máximo de granos_de_polen: {df[df['granos_de_polen'] == max_granos_de_polen]['fecha'].tolist()}\")\n",
    "print(f\"Mínimo de granos_de_polen: {min_granos_de_polen}\")"
   ]
  },
  {
   "cell_type": "markdown",
   "metadata": {},
   "source": [
    "## Gráficas"
   ]
  },
  {
   "cell_type": "code",
   "execution_count": null,
   "metadata": {},
   "outputs": [],
   "source": [
    "import matplotlib.pyplot as plt"
   ]
  },
  {
   "cell_type": "markdown",
   "metadata": {},
   "source": [
    "Gráfico global. Se observa gran estacionalidad (como era de esperar)"
   ]
  },
  {
   "cell_type": "code",
   "execution_count": null,
   "metadata": {},
   "outputs": [],
   "source": [
    "df[\"fecha\"].dt.year[::365]"
   ]
  },
  {
   "cell_type": "code",
   "execution_count": null,
   "metadata": {},
   "outputs": [],
   "source": [
    "# Gráfico de granos_de_polen\n",
    "plt.figure(figsize=(10, 6))\n",
    "# Índices del primer día de cada año en el dataset\n",
    "df_year = df[\"fecha\"].dt.year\n",
    "# Show first appearance of each year\n",
    "df_year = df_year.drop_duplicates()\n",
    "# Pass to datetime\n",
    "df_year = pd.to_datetime(df_year, format='%Y')\n",
    "\n",
    "plt.xticks(df_year, df_year.dt.year)\n",
    "plt.plot(df[\"fecha\"], df[\"granos_de_polen\"])\n",
    "plt.plot(df[\"fecha\"], df[\"granos_de_polen\"], color='red', marker='o', linestyle='', markersize=2)\n",
    "plt.title(\"Granos de polen de gramíneas a lo largo del tiempo\")\n",
    "plt.grid() # Añadir una rejilla\n",
    "# Vertical line\n",
    "#plt.axvline(x=pd.to_datetime('2020-03-14'), color='r', linestyle='--')\n",
    "plt.show()\n"
   ]
  },
  {
   "cell_type": "markdown",
   "metadata": {},
   "source": [
    "Gráfico del año 2022"
   ]
  },
  {
   "cell_type": "code",
   "execution_count": null,
   "metadata": {},
   "outputs": [],
   "source": [
    "# Gráfico de granos de polen para el año 2022\n",
    "df_2022 = df[df[\"fecha\"].dt.year == 2022]\n",
    "\n",
    "plt.figure(figsize=(10, 6))\n",
    "plt.plot(df_2022[\"fecha\"], df_2022[\"granos_de_polen\"])\n",
    "plt.plot(df_2022[\"fecha\"], df_2022[\"granos_de_polen\"], color='red', marker='o', linestyle='', markersize=2)\n",
    "plt.title(\"Granos de polen de gramíneas en 2022\")\n",
    "plt.grid()\n",
    "plt.show()"
   ]
  },
  {
   "cell_type": "markdown",
   "metadata": {},
   "source": [
    "Meses de mayo y junio (los principales de gramíneas)"
   ]
  },
  {
   "cell_type": "code",
   "execution_count": null,
   "metadata": {},
   "outputs": [],
   "source": [
    "# Gráfico de granos de polen para los meses de mayo y junio del año 2022\n",
    "df_2022_may_jun = df_2022[(df_2022[\"fecha\"].dt.month == 5) | (df_2022[\"fecha\"].dt.month == 6)]\n",
    "\n",
    "plt.figure(figsize=(10, 6))\n",
    "# Añadir dos ticks\n",
    "plt.xticks(ticks=df_2022_may_jun[\"fecha\"][::15], labels=df_2022_may_jun[\"fecha\"].dt.strftime('%Y-%m-%d')[::15])\n",
    "plt.plot(df_2022_may_jun[\"fecha\"], df_2022_may_jun[\"granos_de_polen\"])\n",
    "plt.plot(df_2022_may_jun[\"fecha\"], df_2022_may_jun[\"granos_de_polen\"], color='red', marker='o', linestyle='', markersize=2)\n",
    "plt.title(\"Granos de polen de gramíneas en mayo y junio de 2022\")\n",
    "plt.grid()\n",
    "plt.show()"
   ]
  },
  {
   "cell_type": "code",
   "execution_count": null,
   "metadata": {},
   "outputs": [],
   "source": [
    "# Superposición de gráfico de granos de polen para los meses de mayo y junio de los años 2021 y 2022\n",
    "df_2021 = df[df[\"fecha\"].dt.year == 2021]\n",
    "df_2021_may_jun = df_2021[(df_2021[\"fecha\"].dt.month == 5) | (df_2021[\"fecha\"].dt.month == 6)]\n",
    "\n",
    "# Poner 2021 sobre 2022\n",
    "df_2021_may_jun[\"fecha\"] = df_2021_may_jun[\"fecha\"] + pd.DateOffset(years=1)\n",
    "\n",
    "plt.figure(figsize=(10, 6))\n",
    "plt.xticks(ticks=df_2022_may_jun[\"fecha\"][::15], labels=df_2022_may_jun[\"fecha\"].dt.strftime('%m-%d')[::15])\n",
    "plt.plot(df_2021_may_jun[\"fecha\"], df_2021_may_jun[\"granos_de_polen\"], label=\"2021\")\n",
    "plt.plot(df_2022_may_jun[\"fecha\"], df_2022_may_jun[\"granos_de_polen\"], label=\"2022\")\n",
    "plt.title(\"Granos de polen de gramíneas en mayo y junio de 2021 y 2022\")\n",
    "plt.grid()\n",
    "plt.legend()\n",
    "plt.show()"
   ]
  },
  {
   "cell_type": "markdown",
   "metadata": {},
   "source": [
    "Evolución de máximos. Se observa inestabilidad en los máximos."
   ]
  },
  {
   "cell_type": "code",
   "execution_count": null,
   "metadata": {},
   "outputs": [],
   "source": [
    "# Máximo de granos de polen para cada año\n",
    "df[\"year\"] = df[\"fecha\"].dt.year\n",
    "max_granos_de_polen_year = df.groupby(\"year\")[\"granos_de_polen\"].max()\n",
    "\n",
    "# Gráfico de máximos\n",
    "plt.figure(figsize=(10, 6))\n",
    "# Mínimo en 0\n",
    "plt.ylim(0, max_granos_de_polen_year.max() + 50)\n",
    "plt.xticks(max_granos_de_polen_year.index)\n",
    "plt.plot(max_granos_de_polen_year)\n",
    "plt.title(\"Máximo de granos de polen de gramíneas por año\")\n",
    "plt.grid() # Añadir una rejilla\n",
    "plt.show()"
   ]
  },
  {
   "cell_type": "markdown",
   "metadata": {},
   "source": [
    "#### Medias y medianas"
   ]
  },
  {
   "cell_type": "markdown",
   "metadata": {},
   "source": [
    "Media anual (filtrando meses relevantes)"
   ]
  },
  {
   "cell_type": "code",
   "execution_count": null,
   "metadata": {},
   "outputs": [],
   "source": [
    "# Granos de polen medios por año (en primavera y verano)\n",
    "df_filtered = df[(df[\"fecha\"].dt.month >= 3) & (df[\"fecha\"].dt.month <= 8)]\n",
    "mean_granos_de_polen_year = df_filtered.groupby(\"year\")[\"granos_de_polen\"].mean()\n",
    "\n",
    "# Gráfico de medias\n",
    "plt.figure(figsize=(10, 6))\n",
    "plt.plot(mean_granos_de_polen_year)\n",
    "plt.title(\"Media de granos de polen de gramíneas por año\")\n",
    "plt.grid() # Añadir una rejilla\n",
    "plt.show()"
   ]
  },
  {
   "cell_type": "code",
   "execution_count": null,
   "metadata": {},
   "outputs": [],
   "source": [
    "# Mediana de granos de polen por año eliminando los meses entre agosto y marzo\n",
    "df_filtered = df[(df[\"fecha\"].dt.month >= 3) & (df[\"fecha\"].dt.month <= 8)]\n",
    "median_granos_de_polen_year = df_filtered.groupby(\"year\")[\"granos_de_polen\"].median()\n",
    "\n",
    "# Gráfico de medianas\n",
    "plt.figure(figsize=(10, 6))\n",
    "plt.plot(median_granos_de_polen_year)\n",
    "plt.title(\"Mediana de granos de polen de gramíneas por año (marzo-agosto)\")\n",
    "plt.grid() # Añadir una rejilla\n",
    "plt.show()"
   ]
  },
  {
   "cell_type": "code",
   "execution_count": null,
   "metadata": {},
   "outputs": [],
   "source": [
    "# Superposición de medias y medianas anuales\n",
    "plt.figure(figsize=(10, 6))\n",
    "plt.plot(mean_granos_de_polen_year, label=\"Media\")\n",
    "plt.plot(median_granos_de_polen_year, label=\"Mediana\")\n",
    "plt.title(\"Media y mediana de granos de polen de gramíneas por año (marzo-septiembre)\")\n",
    "plt.legend()\n",
    "plt.grid() # Añadir una rejilla\n",
    "plt.show()"
   ]
  },
  {
   "cell_type": "markdown",
   "metadata": {},
   "source": [
    "Media por mes"
   ]
  },
  {
   "cell_type": "code",
   "execution_count": null,
   "metadata": {},
   "outputs": [],
   "source": [
    "# Mediana de granos de polen por mes\n",
    "df[\"month\"] = df[\"fecha\"].dt.month\n",
    "median_granos_de_polen_month = df.groupby(\"month\")[\"granos_de_polen\"].median()\n",
    "\n",
    "# Gráfico de barras de la mediana\n",
    "plt.figure(figsize=(10, 6))\n",
    "plt.ylim(0, median_granos_de_polen_month.max() + 5)\n",
    "plt.xticks(median_granos_de_polen_month.index)\n",
    "plt.bar(median_granos_de_polen_month.index, median_granos_de_polen_month, color='green')\n",
    "plt.title(\"Mediana de granos de polen de gramíneas por mes\")\n",
    "plt.show()"
   ]
  },
  {
   "cell_type": "code",
   "execution_count": null,
   "metadata": {},
   "outputs": [],
   "source": [
    "# Granos de polen medios por mes\n",
    "df[\"month\"] = df[\"fecha\"].dt.month\n",
    "mean_granos_de_polen_month = df.groupby(\"month\")[\"granos_de_polen\"].mean()\n",
    "\n",
    "# Gráfico de medias\n",
    "plt.figure(figsize=(10, 6))\n",
    "plt.ylim(0, mean_granos_de_polen_month.max() + 5)\n",
    "plt.xticks(mean_granos_de_polen_month.index)\n",
    "plt.bar(mean_granos_de_polen_month.index, mean_granos_de_polen_month, color='green')\n",
    "plt.title(\"Media de granos de polen de gramíneas por mes\")\n",
    "plt.show()"
   ]
  },
  {
   "cell_type": "code",
   "execution_count": null,
   "metadata": {},
   "outputs": [],
   "source": [
    "# Superposición de los gráficos de mediana y media\n",
    "plt.figure(figsize=(10, 6))\n",
    "plt.ylim(0, max(mean_granos_de_polen_month.max(), median_granos_de_polen_month.max()) + 5)\n",
    "plt.xticks(mean_granos_de_polen_month.index)\n",
    "plt.bar(mean_granos_de_polen_month.index, mean_granos_de_polen_month, color='green', label=\"Media\", width=0.4, align='center')\n",
    "plt.bar(median_granos_de_polen_month.index, median_granos_de_polen_month, color='blue', label=\"Mediana\", width=0.4, align='edge')\n",
    "plt.title(\"Media y mediana de granos de polen de gramíneas por mes\")\n",
    "plt.legend()\n",
    "plt.show()"
   ]
  },
  {
   "cell_type": "markdown",
   "metadata": {},
   "source": [
    "Media anual (usando el mes de mayo como referencia)"
   ]
  },
  {
   "cell_type": "code",
   "execution_count": null,
   "metadata": {},
   "outputs": [],
   "source": [
    "# Media de granos de polen por año (usando solo mayo)\n",
    "df_filtered = df[df[\"fecha\"].dt.month == 5]\n",
    "mean_granos_de_polen_year = df_filtered.groupby(\"year\")[\"granos_de_polen\"].mean()\n",
    "\n",
    "# Gráfico de medias\n",
    "plt.figure(figsize=(10, 6))\n",
    "plt.ylim(0, mean_granos_de_polen_year.max() + 5)\n",
    "plt.xticks(mean_granos_de_polen_year.index)\n",
    "plt.bar(mean_granos_de_polen_year.index, mean_granos_de_polen_year, color='green', width=0.6)\n",
    "plt.title(\"Media de granos de polen de gramíneas en mayo por año\")\n",
    "plt.show()"
   ]
  },
  {
   "cell_type": "code",
   "execution_count": null,
   "metadata": {},
   "outputs": [],
   "source": [
    "# Mediana de granos de polen por año (usando solo mayo)\n",
    "df_filtered = df[df[\"fecha\"].dt.month == 5]\n",
    "median_granos_de_polen_year = df_filtered.groupby(\"year\")[\"granos_de_polen\"].median()\n",
    "\n",
    "# Gráfico de medianas\n",
    "plt.figure(figsize=(10, 6))\n",
    "plt.ylim(0, median_granos_de_polen_year.max() + 5)\n",
    "plt.xticks(median_granos_de_polen_year.index)\n",
    "plt.bar(median_granos_de_polen_year.index, median_granos_de_polen_year, color='blue', width=0.6)\n",
    "plt.title(\"Mediana de granos de polen de gramíneas en mayo por año\")\n",
    "plt.show()"
   ]
  },
  {
   "cell_type": "code",
   "execution_count": null,
   "metadata": {},
   "outputs": [],
   "source": [
    "# Superposición de medias y medianas anuales\n",
    "plt.figure(figsize=(10, 6))\n",
    "plt.ylim(0, max(mean_granos_de_polen_year.max(), median_granos_de_polen_year.max()) + 5)\n",
    "plt.xticks(mean_granos_de_polen_year.index)\n",
    "plt.bar(mean_granos_de_polen_year.index, mean_granos_de_polen_year, color='green', label=\"Media\", width=0.4, align='center')\n",
    "plt.bar(median_granos_de_polen_year.index, median_granos_de_polen_year, color='blue', label=\"Mediana\", width=0.4, align='edge')\n",
    "plt.title(\"Media y mediana de granos de polen de gramíneas en mayo por año\")\n",
    "plt.legend()\n",
    "plt.show()"
   ]
  },
  {
   "cell_type": "markdown",
   "metadata": {},
   "source": [
    "Acumulación de polen total anual"
   ]
  },
  {
   "cell_type": "code",
   "execution_count": null,
   "metadata": {},
   "outputs": [],
   "source": [
    "# Suma de granos de polen por año\n",
    "sum_granos_de_polen_year = df.groupby(\"year\")[\"granos_de_polen\"].sum()\n",
    "\n",
    "# Gráfico de barras\n",
    "plt.figure(figsize=(10, 6))\n",
    "plt.ylim(0, sum_granos_de_polen_year.max() + 500)\n",
    "plt.xticks(sum_granos_de_polen_year.index)\n",
    "plt.bar(sum_granos_de_polen_year.index, sum_granos_de_polen_year, color='green', edgecolor='black', linewidth=0.6, width=0.5)\n",
    "plt.title(\"Suma de granos de polen de gramíneas por año\")\n",
    "plt.show()"
   ]
  }
 ],
 "metadata": {
  "kernelspec": {
   "display_name": "Python 3",
   "language": "python",
   "name": "python3"
  },
  "language_info": {
   "codemirror_mode": {
    "name": "ipython",
    "version": 3
   },
   "file_extension": ".py",
   "mimetype": "text/x-python",
   "name": "python",
   "nbconvert_exporter": "python",
   "pygments_lexer": "ipython3",
   "version": "3.11.5"
  }
 },
 "nbformat": 4,
 "nbformat_minor": 2
}
