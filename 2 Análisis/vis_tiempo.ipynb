{
 "cells": [
  {
   "cell_type": "markdown",
   "metadata": {},
   "source": [
    "# Visualización de los datos del tiempo\n",
    "\n",
    "En este cuaderno se visualizan y analizan los datos preprocesados del tiempo. En este caso, de la estación meteorológica del retiro."
   ]
  },
  {
   "cell_type": "code",
   "execution_count": null,
   "metadata": {},
   "outputs": [],
   "source": [
    "import pandas as pd"
   ]
  },
  {
   "cell_type": "code",
   "execution_count": null,
   "metadata": {},
   "outputs": [],
   "source": [
    "input_file = '../1 Preprocesado/tiempo/retiro.csv'"
   ]
  },
  {
   "cell_type": "code",
   "execution_count": null,
   "metadata": {},
   "outputs": [],
   "source": [
    "# Cargamos el dataset\n",
    "df = pd.read_csv(input_file)\n",
    "df[\"fecha\"] = pd.to_datetime(df[\"fecha\"], format='%Y-%m-%d')"
   ]
  },
  {
   "cell_type": "markdown",
   "metadata": {},
   "source": [
    "## Precipitación\n",
    "\n",
    "Primero analizamos los datos de precipitación."
   ]
  },
  {
   "cell_type": "markdown",
   "metadata": {},
   "source": [
    "- Máximo histórico (desde 2010)"
   ]
  },
  {
   "cell_type": "code",
   "execution_count": null,
   "metadata": {},
   "outputs": [],
   "source": [
    "# Máximo histórico de precipitaciones\n",
    "max_precipitaciones = df[\"prec\"].max()\n",
    "dia_max_precipitaciones = df[df[\"prec\"] == max_precipitaciones][\"fecha\"].values[0]\n",
    "dia_max_precipitaciones = pd.to_datetime(dia_max_precipitaciones).strftime('%d/%m/%Y')\n",
    "\n",
    "print(f\"El día con mayor precipitación fue el {dia_max_precipitaciones} con {max_precipitaciones} mm de precipitación.\")"
   ]
  },
  {
   "cell_type": "markdown",
   "metadata": {},
   "source": [
    "### Gráficas"
   ]
  },
  {
   "cell_type": "code",
   "execution_count": null,
   "metadata": {},
   "outputs": [],
   "source": [
    "import matplotlib.pyplot as plt"
   ]
  },
  {
   "cell_type": "markdown",
   "metadata": {},
   "source": [
    "Gráfico global"
   ]
  },
  {
   "cell_type": "code",
   "execution_count": null,
   "metadata": {},
   "outputs": [],
   "source": [
    "# Gráfico de precipitaciones totales cada trimestre\n",
    "df[\"trimestre\"] = df[\"fecha\"].dt.quarter\n",
    "df[\"año\"] = df[\"fecha\"].dt.year\n",
    "df[\"mes\"] = df[\"fecha\"].dt.month\n",
    "precipitaciones_por_trimestre = df.groupby([\"año\", \"trimestre\"])[\"prec\"].sum()\n",
    "precipitaciones_por_trimestre = precipitaciones_por_trimestre.reset_index()\n",
    "precipitaciones_por_trimestre[\"trimestre\"] = precipitaciones_por_trimestre[\"trimestre\"].astype(str)\n",
    "\n",
    "fig, ax = plt.subplots()\n",
    "precipitaciones_por_trimestre.pivot(index=\"año\", columns=\"trimestre\", values=\"prec\").plot(kind=\"bar\", stacked=True, ax=ax)\n",
    "plt.title(\"Precipitaciones totales por trimestre\")\n",
    "plt.xlabel(\"Año\")\n",
    "plt.ylabel(\"Precipitación (mm)\")\n",
    "plt.legend(title=\"Trimestre\")\n",
    "plt.show()"
   ]
  },
  {
   "cell_type": "markdown",
   "metadata": {},
   "source": [
    "Gráfico del año 2022"
   ]
  },
  {
   "cell_type": "code",
   "execution_count": null,
   "metadata": {},
   "outputs": [],
   "source": [
    "# Gráfico del año 2022\n",
    "plt.figure(figsize=(10, 5))\n",
    "#plt.plot(df[\"fecha\"], df[\"prec\"], label=\"Precipitaciones\")\n",
    "plt.bar(df[\"fecha\"], df[\"prec\"])\n",
    "plt.title(\"Precipitaciones (mm) en 2022\")\n",
    "plt.grid()\n",
    "plt.xlim(pd.Timestamp('2022-01-01'), pd.Timestamp('2022-12-31'))\n",
    "plt.ylim(0, 30)\n",
    "plt.tight_layout()\n",
    "plt.show()"
   ]
  },
  {
   "cell_type": "markdown",
   "metadata": {},
   "source": [
    "Meses de mayo y junio"
   ]
  },
  {
   "cell_type": "code",
   "execution_count": null,
   "metadata": {},
   "outputs": [],
   "source": [
    "# Gráfico de meses de abril, mayo y junio de 2022\n",
    "plt.figure(figsize=(10, 5))\n",
    "plt.bar(df[\"fecha\"], df[\"prec\"])\n",
    "plt.title(\"Precipitaciones (mm) en mayo y junio de 2022\")\n",
    "plt.grid()\n",
    "plt.xlim(pd.Timestamp('2022-04-01'), pd.Timestamp('2022-06-30'))\n",
    "plt.ylim(0, 30)\n",
    "plt.tight_layout()\n",
    "plt.show()"
   ]
  },
  {
   "cell_type": "markdown",
   "metadata": {},
   "source": [
    "Evolución de máximos por año"
   ]
  },
  {
   "cell_type": "code",
   "execution_count": null,
   "metadata": {},
   "outputs": [],
   "source": [
    "# Máximo de precipitaciones por año\n",
    "max_precipitaciones_por_año = df.groupby(\"año\")[\"prec\"].max()"
   ]
  },
  {
   "cell_type": "code",
   "execution_count": null,
   "metadata": {},
   "outputs": [],
   "source": [
    "# Gráfico de máximos de precipitaciones por año\n",
    "plt.figure(figsize=(10, 5))\n",
    "plt.plot(max_precipitaciones_por_año)\n",
    "plt.title(\"Máximos de precipitaciones por año\")\n",
    "plt.xlabel(\"Año\")\n",
    "plt.ylabel(\"Precipitación (mm)\")\n",
    "plt.grid()\n",
    "plt.tight_layout()\n",
    "plt.show()"
   ]
  },
  {
   "cell_type": "markdown",
   "metadata": {},
   "source": [
    "## Temperaturas"
   ]
  },
  {
   "cell_type": "markdown",
   "metadata": {},
   "source": [
    "- Máximo y mínimo histórico (desde 2010)"
   ]
  },
  {
   "cell_type": "code",
   "execution_count": null,
   "metadata": {},
   "outputs": [],
   "source": [
    "# Máximo y mínimo histórico de temperaturas\n",
    "max_temperatura = df[\"tmax\"].max()\n",
    "min_temperatura = df[\"tmin\"].min()\n",
    "dia_max_temperatura = df[df[\"tmax\"] == max_temperatura][\"fecha\"].values[0]\n",
    "dia_min_temperatura = df[df[\"tmin\"] == min_temperatura][\"fecha\"].values[0]\n",
    "dia_max_temperatura = pd.to_datetime(dia_max_temperatura).strftime('%d/%m/%Y')\n",
    "dia_min_temperatura = pd.to_datetime(dia_min_temperatura).strftime('%d/%m/%Y')\n",
    "\n",
    "print(f\"El día con mayor temperatura fue el {dia_max_temperatura} con {max_temperatura} ºC.\")\n",
    "print(f\"El día con menor temperatura fue el {dia_min_temperatura} con {min_temperatura} ºC.\")"
   ]
  },
  {
   "cell_type": "markdown",
   "metadata": {},
   "source": [
    "### Gráficos"
   ]
  },
  {
   "cell_type": "markdown",
   "metadata": {},
   "source": [
    "- Gráfico global"
   ]
  },
  {
   "cell_type": "code",
   "execution_count": null,
   "metadata": {},
   "outputs": [],
   "source": [
    "# Gráfico de temperaturas máximas y mínimas\n",
    "plt.figure(figsize=(10, 5))\n",
    "plt.plot(df[\"fecha\"], df[\"tmax\"], label=\"Máximas\")\n",
    "plt.plot(df[\"fecha\"], df[\"tmin\"], label=\"Mínimas\")\n",
    "plt.title(\"Temperaturas máximas y mínimas\")\n",
    "plt.xlabel(\"Fecha\")\n",
    "plt.ylabel(\"Temperatura (ºC)\")\n",
    "plt.legend()\n",
    "plt.grid()\n",
    "plt.tight_layout()\n",
    "plt.show()"
   ]
  },
  {
   "cell_type": "markdown",
   "metadata": {},
   "source": [
    "Gráfico del 2022"
   ]
  },
  {
   "cell_type": "code",
   "execution_count": null,
   "metadata": {},
   "outputs": [],
   "source": [
    "# Gráfico de temperaturas máximas y mínimas en 2022\n",
    "plt.figure(figsize=(10, 5))\n",
    "plt.plot(df[\"fecha\"], df[\"tmax\"], label=\"Máximas\", color=\"red\")\n",
    "plt.plot(df[\"fecha\"], df[\"tmin\"], label=\"Mínimas\", color=\"blue\")\n",
    "plt.title(\"Temperaturas máximas y mínimas en 2022\")\n",
    "plt.xlabel(\"Fecha\")\n",
    "plt.ylabel(\"Temperatura (ºC)\")\n",
    "plt.legend()\n",
    "plt.grid()\n",
    "plt.xlim(pd.Timestamp('2022-01-01'), pd.Timestamp('2022-12-31'))\n",
    "plt.tight_layout()\n",
    "plt.show()"
   ]
  }
 ],
 "metadata": {
  "kernelspec": {
   "display_name": "Python 3",
   "language": "python",
   "name": "python3"
  },
  "language_info": {
   "codemirror_mode": {
    "name": "ipython",
    "version": 3
   },
   "file_extension": ".py",
   "mimetype": "text/x-python",
   "name": "python",
   "nbconvert_exporter": "python",
   "pygments_lexer": "ipython3",
   "version": "3.11.5"
  }
 },
 "nbformat": 4,
 "nbformat_minor": 2
}
