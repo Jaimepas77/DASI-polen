{
 "cells": [
  {
   "cell_type": "markdown",
   "metadata": {},
   "source": [
    "# Limpieza y estructurado de datos del tiempo\n",
    "\n",
    "Objetivo: unir todos los csv de datos del tiempo en uno solo. Estos datos ya están filtrados para la estación meteorológica del retiro, pero hay que filtrar los valores recogidos que nos interesan. El resultado se guarda en *./tiempo/retiro*."
   ]
  },
  {
   "cell_type": "code",
   "execution_count": null,
   "metadata": {},
   "outputs": [],
   "source": [
    "inPath = \"../0 data/tiempo/\"\n",
    "outPath = \"./tiempo/\""
   ]
  },
  {
   "cell_type": "markdown",
   "metadata": {},
   "source": [
    "## Unión de datasets"
   ]
  },
  {
   "cell_type": "code",
   "execution_count": null,
   "metadata": {},
   "outputs": [],
   "source": [
    "import pandas as pd"
   ]
  },
  {
   "cell_type": "code",
   "execution_count": null,
   "metadata": {},
   "outputs": [],
   "source": [
    "# Leer los archivos json que empiezan con \"tiempo\" en la carpeta inPath\n",
    "# y juntarlos en un solo DataFrame\n",
    "\n",
    "import os\n",
    "files = os.listdir(inPath)\n",
    "files = [f for f in files if f.startswith(\"tiempo\")]\n",
    "\n",
    "dataframes = []\n",
    "for f in files:\n",
    "    dataframes.append(pd.read_json(inPath + f))\n",
    "\n",
    "df = pd.concat(dataframes, ignore_index=True)\n",
    "df.tail()"
   ]
  },
  {
   "cell_type": "code",
   "execution_count": null,
   "metadata": {},
   "outputs": [],
   "source": [
    "# Inspeccionar los datos\n",
    "df.info()\n",
    "df.describe()"
   ]
  },
  {
   "cell_type": "markdown",
   "metadata": {},
   "source": [
    "## Filtrado a columnas que nos interesan por estar también en la predicción\n",
    "\n",
    "> Columnas: fecha, prec, tmin, tmax, dir, velmedia, racha"
   ]
  },
  {
   "cell_type": "code",
   "execution_count": null,
   "metadata": {},
   "outputs": [],
   "source": [
    "# Quedarse con las columnas que nos interesan\n",
    "# Columnas: fecha, prec, tmin, tmax, dir, velmedia, racha\n",
    "df = df[[\"fecha\", \"prec\", \"tmin\", \"tmax\", \"dir\", \"velmedia\", \"racha\"]]\n",
    "df.info()"
   ]
  },
  {
   "cell_type": "code",
   "execution_count": null,
   "metadata": {},
   "outputs": [],
   "source": [
    "df.tail()"
   ]
  },
  {
   "cell_type": "markdown",
   "metadata": {},
   "source": [
    "## Limpieza y adaptación de los datos"
   ]
  },
  {
   "cell_type": "markdown",
   "metadata": {},
   "source": [
    " - Tipos numéricos"
   ]
  },
  {
   "cell_type": "code",
   "execution_count": null,
   "metadata": {},
   "outputs": [],
   "source": [
    "# Cambiar Ip por 0 en la columna prec\n",
    "df[\"prec\"] = df[\"prec\"].replace(\"Ip\", 0)\n",
    "\n",
    "# Cambiar 99 y 88 por NaN en la columna dir\n",
    "df[\"dir\"] = df[\"dir\"].replace(99, None)\n",
    "df[\"dir\"] = df[\"dir\"].replace(88, None)\n",
    "\n",
    "# Cambiar comas por puntos en las columnas numéricas\n",
    "df[\"prec\"] = df[\"prec\"].astype(str).str.replace(\",\", \".\").astype(float)\n",
    "df[\"tmin\"] = df[\"tmin\"].astype(str).str.replace(\",\", \".\").astype(float)\n",
    "df[\"tmax\"] = df[\"tmax\"].astype(str).str.replace(\",\", \".\").astype(float)\n",
    "df[\"velmedia\"] = df[\"velmedia\"].astype(str).str.replace(\",\", \".\").astype(float)\n",
    "df[\"racha\"] = df[\"racha\"].astype(str).str.replace(\",\", \".\").astype(float)\n",
    "df.info()\n"
   ]
  },
  {
   "cell_type": "code",
   "execution_count": null,
   "metadata": {},
   "outputs": [],
   "source": [
    "df.tail()"
   ]
  },
  {
   "cell_type": "markdown",
   "metadata": {},
   "source": [
    " - Se observa que los datos de viento están incompletos (pero son importantes)\n",
    " Existe la posibilidad de emplear otra estación meteorológica (aeropuerto de Barajas pej)"
   ]
  },
  {
   "cell_type": "markdown",
   "metadata": {},
   "source": [
    " - También se encuentran datos incompletos en las temperaturas, aunque son pocos (se decide prolongar el día anterior), y en las precipitaciones, aunque son menos aún (se decide sustituir por 0)"
   ]
  },
  {
   "cell_type": "code",
   "execution_count": null,
   "metadata": {},
   "outputs": [],
   "source": [
    "# Show 5 of november 2022\n",
    "df[df[\"fecha\"] == \"2022-11-05\"]"
   ]
  },
  {
   "cell_type": "code",
   "execution_count": null,
   "metadata": {},
   "outputs": [],
   "source": [
    "# Prolongar temperatura del día anterior para los días que no tienen tmin o tmax\n",
    "\n",
    "df[\"tmin\"] = df[\"tmin\"].fillna(method=\"ffill\")\n",
    "df[\"tmax\"] = df[\"tmax\"].fillna(method=\"ffill\")\n",
    "\n",
    "# Show 5 of november 2022\n",
    "df[df[\"fecha\"] == \"2022-11-05\"]"
   ]
  },
  {
   "cell_type": "code",
   "execution_count": null,
   "metadata": {},
   "outputs": [],
   "source": [
    "# Show 11 of march 2022\n",
    "df[df[\"fecha\"] == \"2022-03-11\"]"
   ]
  },
  {
   "cell_type": "code",
   "execution_count": null,
   "metadata": {},
   "outputs": [],
   "source": [
    "# Poner a 0 la precipitación de los días que no tienen\n",
    "df[\"prec\"] = df[\"prec\"].fillna(0)\n",
    "\n",
    "# Show 11 of march 2022\n",
    "df[df[\"fecha\"] == \"2022-03-11\"]"
   ]
  },
  {
   "cell_type": "markdown",
   "metadata": {},
   "source": [
    "## Guardado de los resultados"
   ]
  },
  {
   "cell_type": "code",
   "execution_count": null,
   "metadata": {},
   "outputs": [],
   "source": [
    "# Create directory if it doesn't exist\n",
    "import os\n",
    "if not os.path.exists(outPath):\n",
    "    os.makedirs(outPath)"
   ]
  },
  {
   "cell_type": "code",
   "execution_count": null,
   "metadata": {},
   "outputs": [],
   "source": [
    "# Save the DataFrame to a csv file\n",
    "df.to_csv(outPath + \"tiempo.csv\", index=False, encoding=\"utf-8\")"
   ]
  }
 ],
 "metadata": {
  "kernelspec": {
   "display_name": "Python 3",
   "language": "python",
   "name": "python3"
  },
  "language_info": {
   "codemirror_mode": {
    "name": "ipython",
    "version": 3
   },
   "file_extension": ".py",
   "mimetype": "text/x-python",
   "name": "python",
   "nbconvert_exporter": "python",
   "pygments_lexer": "ipython3",
   "version": "3.11.5"
  }
 },
 "nbformat": 4,
 "nbformat_minor": 2
}
