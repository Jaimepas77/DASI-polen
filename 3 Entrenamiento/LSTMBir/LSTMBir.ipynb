{
 "cells": [
  {
   "attachments": {},
   "cell_type": "markdown",
   "metadata": {},
   "source": [
    "# LSTM"
   ]
  },
  {
   "attachments": {},
   "cell_type": "markdown",
   "metadata": {},
   "source": [
    "LSTM es un modelo de redes neuronales que permite retener y recordar información relevante de secuencias largas."
   ]
  },
  {
   "cell_type": "code",
   "execution_count": null,
   "metadata": {},
   "outputs": [],
   "source": [
    "import numpy as np\n",
    "import pandas as pd\n",
    "import tensorflow as tf\n",
    "from tensorflow.keras.models import Sequential\n",
    "from tensorflow.keras.layers import LSTM, Dense, Input, Bidirectional\n",
    "from sklearn.preprocessing import MinMaxScaler, StandardScaler\n",
    "from sklearn.model_selection import train_test_split\n",
    "from sklearn.metrics import mean_squared_error, mean_absolute_error, r2_score\n",
    "from pandas import DataFrame\n",
    "import joblib\n",
    "import matplotlib.pyplot as plt\n",
    "import random\n",
    "from sklearn.model_selection import GridSearchCV\n"
   ]
  },
  {
   "cell_type": "code",
   "execution_count": null,
   "metadata": {},
   "outputs": [],
   "source": [
    "# Semilla\n",
    "np.random.seed(42)\n",
    "tf.random.set_seed(42)\n",
    "# Creo la importante es esa, la que usa kera\n",
    "random.seed(42)"
   ]
  },
  {
   "attachments": {},
   "cell_type": "markdown",
   "metadata": {},
   "source": [
    "# Carga de datos"
   ]
  },
  {
   "cell_type": "code",
   "execution_count": null,
   "metadata": {},
   "outputs": [],
   "source": [
    "inPath = \"../../1 Preprocesado\"\n",
    "\n",
    "# Ficheros de datos\n",
    "polen = pd.read_csv(f\"{inPath}/polen/gramineasGETA.csv\")\n",
    "tiempo = pd.read_csv(f\"{inPath}/tiempo/Getafe.csv\")\n",
    "\n",
    "# Unimos los datos\n",
    "datos = pd.merge(polen, tiempo, on='fecha')"
   ]
  },
  {
   "cell_type": "code",
   "execution_count": null,
   "metadata": {},
   "outputs": [],
   "source": [
    "# Constantes\n",
    "ANTICIPACION = 1 # Número de días de anticipación con los que se predice\n",
    "NUM_DIAS = 30   # Número de días en base a los que se predice\n",
    "MODEL_FILE_NAME = f'LSTM Bir{NUM_DIAS}_{ANTICIPACION}.pkl' #Archivo de guardado del modelo"
   ]
  },
  {
   "cell_type": "markdown",
   "metadata": {},
   "source": [
    "# Preparación de los datos"
   ]
  },
  {
   "cell_type": "code",
   "execution_count": null,
   "metadata": {},
   "outputs": [],
   "source": [
    "# Ordenamos los datos por fecha\n",
    "datos = datos.sort_values('fecha')\n",
    "\n",
    "# Creamos las columnas con los datos de los días anteriores\n",
    "for i in range(1, NUM_DIAS + 1):\n",
    "    for columna in ['granos_de_polen', 'prec', 'tmin', 'tmax', 'dir', 'velmedia', 'racha', 'sol']:\n",
    "        # Supress SettingWithCopyWarning\n",
    "        datos = datos.copy()\n",
    "        datos[f'{columna}_{i}'] = datos[columna].shift(i)\n",
    "\n",
    "# Eliminamos los días que no tienen todos los datos\n",
    "datos = datos.dropna()"
   ]
  },
  {
   "cell_type": "code",
   "execution_count": null,
   "metadata": {},
   "outputs": [],
   "source": [
    "# datos['semana'] = pd.to_datetime(datos['fecha']).dt.dayofyear // 7\n",
    "\n",
    "# # ['prec', 'tmin', 'tmax', 'dir', 'velmedia', 'racha', 'sol']\n",
    "# datos = datos.drop(columns=[col for col in datos.columns if col.startswith('prec_')])\n",
    "# datos = datos.drop(columns=[col for col in datos.columns if col.startswith('tmin_')])\n",
    "# datos = datos.drop(columns=[col for col in datos.columns if col.startswith('tmax_')])\n",
    "# datos = datos.drop(columns=[col for col in datos.columns if col.startswith('dir_')])\n",
    "# # datos = datos.drop(columns=[col for col in datos.columns if col.startswith('velmedia_')])\n",
    "# datos = datos.drop(columns=[col for col in datos.columns if col.startswith('racha_')])\n",
    "# datos = datos.drop(columns=[col for col in datos.columns if col.startswith('sol_')])\n"
   ]
  },
  {
   "cell_type": "code",
   "execution_count": null,
   "metadata": {},
   "outputs": [],
   "source": [
    "# Eliminamos la columna de fecha\n",
    "datos = datos.drop(columns=['fecha'])"
   ]
  },
  {
   "cell_type": "code",
   "execution_count": null,
   "metadata": {},
   "outputs": [],
   "source": [
    "# División de entrenamiento y prueba. Como una LSTM, tenemos en cuenta las depencias temporales (intervalo continua) \n",
    "X = datos.drop(columns=['granos_de_polen'])\n",
    "y = datos['granos_de_polen']\n",
    "X_train, X_test, y_train, y_test = train_test_split(X, y, test_size=0.2, shuffle=False)"
   ]
  },
  {
   "cell_type": "code",
   "execution_count": null,
   "metadata": {},
   "outputs": [],
   "source": [
    "# Guardamos los indices para visualizaciones posteriores\n",
    "test_index  = y_test.index"
   ]
  },
  {
   "cell_type": "code",
   "execution_count": null,
   "metadata": {},
   "outputs": [],
   "source": [
    "#scaler = MinMaxScaler()\n",
    "scaler = StandardScaler()\n",
    "X_train = scaler.fit_transform(X_train)\n",
    "X_test = scaler.transform(X_test)"
   ]
  },
  {
   "cell_type": "code",
   "execution_count": null,
   "metadata": {},
   "outputs": [],
   "source": [
    "# Convertir los DataFrames a array para redimensionar\n",
    "X_train = np.array(X_train)\n",
    "X_test = np.array(X_test)\n",
    "\n",
    "# Redimensionar a 3D [samples, timesteps, features] para LSTM, muestras (shape0), paso de tiempo, num_variables carateristicos (shape1)\n",
    "X_train = X_train.reshape((X_train.shape[0], 1, X_train.shape[1]))\n",
    "X_test = X_test.reshape((X_test.shape[0], 1, X_test.shape[1]))"
   ]
  },
  {
   "attachments": {},
   "cell_type": "markdown",
   "metadata": {},
   "source": [
    "# Entrenamiento de modelo"
   ]
  },
  {
   "cell_type": "code",
   "execution_count": null,
   "metadata": {},
   "outputs": [],
   "source": [
    "# Constantes de entrenamiento\n",
    "# Epoca\n",
    "EPOCHS = 150\n",
    "# Tamaño de lote\n",
    "BATCH_SIZE = 90\n",
    "# Verbosidad de la salida durante el entrenamiento 0 - nada , 1-barra de progreso, 2 - por epoca\n",
    "VERBOSE = 0\n",
    "# Mezcla de conjunto de entrenamiento： False\n",
    "SHUFFLE = False\n",
    "# Numero de neuronas\n",
    "NEU = 30\n",
    "# Funcion de perdida\n",
    "LOSS = 'mse'\n",
    "# Optimizador ...hay muchas\n",
    "OPTIMIZER = 'adam'\n",
    "\n",
    "NUM_CAPAS = 1"
   ]
  },
  {
   "cell_type": "code",
   "execution_count": null,
   "metadata": {},
   "outputs": [],
   "source": [
    "# Entrenamiento de modelo\n",
    "def create_model(num_neu = NEU, optimizador = OPTIMIZER, num_cap = NUM_CAPAS):\n",
    "    model = Sequential()\n",
    "    # Capa de LSTM --> neuronas, numero_muestra x num_variables_caracteristics\n",
    "    # Bidirectional suele haber dos capas: orden secuencial y orden inverso\n",
    "    model.add(Input(shape=(X_train.shape[1], X_train.shape[2])))\n",
    "\n",
    "    if NUM_CAPAS == 1:\n",
    "        model.add(Bidirectional(LSTM(NEU), input_shape=(X_train.shape[1], X_train.shape[2])))\n",
    "    else:\n",
    "        for i in range(NUM_CAPAS - 1):\n",
    "            model.add(Bidirectional(LSTM(NEU, return_sequences=True), input_shape=(X_train.shape[1], X_train.shape[2])))\n",
    "        model.add(Bidirectional(LSTM(NEU)))\n",
    "    # Capa de Salida\n",
    "    model.add(Dense(1))\n",
    "    # Validación y optimizador\n",
    "    model.compile(loss=LOSS, optimizer= OPTIMIZER)\n",
    "    return model"
   ]
  },
  {
   "cell_type": "code",
   "execution_count": null,
   "metadata": {},
   "outputs": [],
   "source": [
    "model = create_model()\n",
    "history = model.fit(X_train, y_train, epochs=EPOCHS, batch_size=BATCH_SIZE, validation_data=(X_test, y_test), verbose=VERBOSE, shuffle=SHUFFLE)"
   ]
  },
  {
   "cell_type": "code",
   "execution_count": null,
   "metadata": {},
   "outputs": [],
   "source": [
    "# plot de history sobre funcion de perdida\n",
    "plt.figure(figsize=(16,9))\n",
    "plt.plot(history.history['loss'], label='train')\n",
    "plt.plot(history.history['val_loss'], label='test')\n",
    "plt.legend()\n",
    "#Aumentar el tamaño de la letra\n",
    "plt.xticks(fontsize=14)\n",
    "plt.yticks(fontsize=14)\n",
    "\n",
    "# Aumentar el tamaño de la leyeenda\n",
    "leg = plt.legend(fontsize=16)\n",
    "\n",
    "# Cambiar el eje x para que sean enteros\n",
    "#plt.xticks(np.arange(1, EPOCHS, 2))\n",
    "plt.show()\n",
    "\n",
    "func_loss = history.history['val_loss']\n",
    "min_epoc = func_loss.index(min(func_loss))"
   ]
  },
  {
   "cell_type": "code",
   "execution_count": null,
   "metadata": {},
   "outputs": [],
   "source": [
    "# Cargar el modelo (si ya está entrenado)\n",
    "#model = joblib.load(MODEL_FILE_NAME)\n",
    "#model"
   ]
  },
  {
   "cell_type": "markdown",
   "metadata": {},
   "source": [
    "#### Predicción sobre el conjunto de datos de test"
   ]
  },
  {
   "cell_type": "code",
   "execution_count": null,
   "metadata": {},
   "outputs": [],
   "source": [
    "# Predición de conjunto de test\n",
    "y_pred = model.predict(X_test)"
   ]
  },
  {
   "cell_type": "code",
   "execution_count": null,
   "metadata": {},
   "outputs": [],
   "source": [
    "mse = mean_squared_error(y_test, y_pred)\n",
    "print('MSE:', mse)\n",
    "\n",
    "rmse = np.sqrt(mse)\n",
    "print('RMSE:', rmse)\n",
    "\n",
    "mae = mean_absolute_error(y_test, y_pred)\n",
    "print('MAE:', mae)\n",
    "\n",
    "r2 = r2_score(y_test, y_pred)\n",
    "print('R2:', r2)"
   ]
  },
  {
   "cell_type": "markdown",
   "metadata": {},
   "source": [
    "#### Métricas con variables ordinales (alto-medio-bajo)"
   ]
  },
  {
   "cell_type": "code",
   "execution_count": null,
   "metadata": {},
   "outputs": [],
   "source": [
    "# Define the classification thresholds\n",
    "low_threshold = 25\n",
    "medium_threshold = 50\n",
    "\n",
    "def classify_label(value):\n",
    "    if value < low_threshold:\n",
    "        return 'Low'\n",
    "    elif value < medium_threshold:\n",
    "        return 'Medium'\n",
    "    else:\n",
    "        return 'High'\n",
    "\n",
    "# To 1d array\n",
    "y_pred = y_pred.flatten()\n",
    "y_pred\n",
    "# Classify the predictions based on the thresholds\n",
    "y_true = [classify_label(value) for value in y_test]  # Replace classify_label with your own function\n",
    "y_pred_clas = [classify_label(value) for value in y_pred]  # Replace classify_label with your own function"
   ]
  },
  {
   "cell_type": "code",
   "execution_count": null,
   "metadata": {},
   "outputs": [],
   "source": [
    "from sklearn.metrics import confusion_matrix\n",
    "\n",
    "# Create the confusion matrix\n",
    "labels = ['Low', 'Medium', 'High']\n",
    "cm = confusion_matrix(y_true, y_pred_clas, labels=labels)\n",
    "\n",
    "# Display the confusion matrix with a heatmap\n",
    "import seaborn as sns\n",
    "sns.heatmap(cm, annot=True, fmt='d', xticklabels=labels, yticklabels=labels)\n",
    "plt.xlabel('Predicted')\n",
    "plt.ylabel('Actual')\n",
    "plt.title('Confusion Matrix')\n",
    "plt.show()\n",
    "\n"
   ]
  },
  {
   "cell_type": "code",
   "execution_count": null,
   "metadata": {},
   "outputs": [],
   "source": [
    "# Mostrar métricas de clasificación\n",
    "from sklearn.metrics import classification_report\n",
    "\n",
    "# Display the classification report\n",
    "print(classification_report(y_true, y_pred_clas))"
   ]
  },
  {
   "cell_type": "markdown",
   "metadata": {},
   "source": [
    "# Visualización"
   ]
  },
  {
   "cell_type": "code",
   "execution_count": null,
   "metadata": {},
   "outputs": [],
   "source": [
    "\n",
    "# pred_aux = [x[0] for x in y_pred]\n",
    "# test_aux = [x[0] for x in y_test]\n",
    "plt.figure(figsize=(13,5))\n",
    "plt.plot(test_index,y_pred, label='prediction', color = '#1f77b4')\n",
    "plt.plot(y_test, label='test', color= '#ff7f0e')\n",
    "plt.legend()\n",
    "plt.title(f'Gráfico de test y predicción. Anticipación: {ANTICIPACION}')\n",
    "\n",
    "#plt.savefig(f'../imagenes/prediccion-{MODEL_FILE_NAME}-lineal.png')\n",
    "plt.show()"
   ]
  },
  {
   "cell_type": "code",
   "execution_count": null,
   "metadata": {},
   "outputs": [],
   "source": [
    "# Gráfico de dispersión de los valores reales frente a los predichos\n",
    "plt.scatter(y_test, y_pred)\n",
    "plt.xlabel('Valores reales')\n",
    "plt.ylabel('Valores predichos')\n",
    "plt.title('Valores reales vs Valores predichos')\n",
    "# Línea de tendencia\n",
    "z = np.polyfit(y_test, y_pred, 1)\n",
    "p = np.poly1d(z)\n",
    "plt.plot(y_test, p(y_test), color='darkgreen')\n",
    "# Línea de 45 grados\n",
    "plt.plot([y_test.min(), y_test.max()], [y_test.min(), y_test.max()], color='black')\n",
    "plt.show()"
   ]
  },
  {
   "cell_type": "code",
   "execution_count": null,
   "metadata": {},
   "outputs": [],
   "source": [
    "# Gráfico de la predicción con puntos\n",
    "plt.plot(y_test.index, y_test, label='Real', color='blue', marker='o')\n",
    "plt.plot(y_test.index, y_pred, label='Predicción', color='red', marker='x')\n",
    "# Recortar a fragmentos cortos para poder ver lo que pasa\n",
    "# plt.xlim(3175, 3220)\n",
    "# plt.xlim(3520, 3560)\n",
    "plt.xlim(4080, 4130)\n",
    "# Dibujar líneas horizontales para los umbrales\n",
    "plt.axhline(y=low_threshold, color='green', linestyle='--', label='Low threshold')\n",
    "plt.axhline(y=medium_threshold, color='orange', linestyle='--', label='Medium threshold')\n",
    "plt.legend()\n",
    "plt.show()"
   ]
  },
  {
   "attachments": {},
   "cell_type": "markdown",
   "metadata": {},
   "source": [
    "## Guardado del modelo entrenado"
   ]
  },
  {
   "cell_type": "code",
   "execution_count": null,
   "metadata": {},
   "outputs": [],
   "source": [
    "# Guardado el modelo\n",
    "joblib.dump(model, open(MODEL_FILE_NAME, 'wb'))"
   ]
  }
 ],
 "metadata": {
  "kernelspec": {
   "display_name": "Python 3",
   "language": "python",
   "name": "python3"
  },
  "language_info": {
   "codemirror_mode": {
    "name": "ipython",
    "version": 3
   },
   "file_extension": ".py",
   "mimetype": "text/x-python",
   "name": "python",
   "nbconvert_exporter": "python",
   "pygments_lexer": "ipython3",
   "version": "3.10.11"
  },
  "orig_nbformat": 4
 },
 "nbformat": 4,
 "nbformat_minor": 2
}
